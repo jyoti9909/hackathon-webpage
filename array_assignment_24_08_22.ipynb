{
  "cells": [
    {
      "cell_type": "markdown",
      "metadata": {
        "id": "view-in-github",
        "colab_type": "text"
      },
      "source": [
        "<a href=\"https://colab.research.google.com/github/jyoti9909/hackathon-webpage/blob/main/array_assignment_24_08_22.ipynb\" target=\"_parent\"><img src=\"https://colab.research.google.com/assets/colab-badge.svg\" alt=\"Open In Colab\"/></a>"
      ]
    },
    {
      "cell_type": "code",
      "source": [
        "'''\n",
        "Array Assignments\n",
        "******************\n",
        "Write a program to -\n",
        "1. Reverse an array\n",
        "2. Find the mean, median and mode in an array\n",
        "3. Print the elements of an array of size N, in a rotated manner with a gap of K. Eg, let us\n",
        "say the array is - 3, 6, 7, 5, 10. And the value of k = 3. The output should be - 7, 3, 10, 6,\n",
        "4. Find duplicate elements in an array\n",
        "5. Merge two sorted arrays into a single sorted array\n",
        "6. Given an unsorted array of size N that contains only non-negative integers, find a\n",
        "contiguous subarray which adds to a given number S. In case of multiple subarrays,\n",
        "return the subarray which comes first on moving from left to right. Eg, let us say the array\n",
        "is - 3, 6, 7, 5, 10. And the value of S = 12. The output should be - 7, 5\n",
        "7. Find the Union and Intersection of the two sorted arrays\n",
        "8. Given two sorted arrays nums1 and nums2 of size m and n respectively, return the\n",
        "median of the two sorted arrays.\n",
        "9. Find a number using Binary Search in a sorted array\n",
        "10. Learn these sorting algorithms and apply them on an unsorted array\n",
        "a. Selection Sort\n",
        "b. Insertion Sort\n",
        "c. Bubble Sort\n",
        "d. Quick Sort\n",
        "e. Merge Sort\n",
        "f. Count Sort '''"
      ],
      "metadata": {
        "id": "VtHdXUGrwTIt"
      },
      "execution_count": null,
      "outputs": []
    },
    {
      "cell_type": "code",
      "execution_count": null,
      "metadata": {
        "colab": {
          "base_uri": "https://localhost:8080/"
        },
        "id": "kOnvEeEcO28x",
        "outputId": "f42b686f-6ade-4ffc-e035-a953fc070e1a"
      },
      "outputs": [
        {
          "output_type": "stream",
          "name": "stdout",
          "text": [
            "4\n",
            "4 2 1 3\n",
            "[3, 1, 2, 4]\n"
          ]
        }
      ],
      "source": [
        "# Q: 1 Reverse array\n",
        "N=int(input())\n",
        "List=list(map(int,input().strip().split()))[:N]\n",
        "i=1\n",
        "l=[]\n",
        "while i<=N:\n",
        "  l.append(List[-i]) \n",
        "  i+=1\n",
        "print(l)\n",
        "  "
      ]
    },
    {
      "cell_type": "code",
      "source": [
        "# Q: 2 Mean, Meadian, Mode\n",
        "N=int(input())\n",
        "List=list(map(int,input().strip().split()))[:N]\n",
        "list1=set(List)\n",
        "i=0\n",
        "sum=0\n",
        "List.sort()\n",
        "for i in (List):\n",
        "  sum+=i\n",
        "print(sum)\n",
        "\n",
        "if N%2==0:\n",
        "  a=List[(N//2-1)]\n",
        "  c=List[(N//2)]\n",
        "  b=(a+c)/2\n",
        "else:\n",
        "  b=List[(N//2+1)]\n",
        "print(\"Mean: \",sum/N)\n",
        "print(\"Meadian: \",b)\n",
        "max=0\n",
        "ele=0\n",
        "a1=[0]*N\n",
        "for i in list1:\n",
        "  count=0\n",
        "  for j in range(N):\n",
        "    if i==int(List[j]):\n",
        "      count+=1\n",
        "      if count>max:\n",
        "        max=count\n",
        "        c=max\n",
        "        ele=i\n",
        "        if c>=max:\n",
        "          print(\"Mode of list\",ele)"
      ],
      "metadata": {
        "id": "Ev5_TFvkRB-M",
        "colab": {
          "base_uri": "https://localhost:8080/"
        },
        "outputId": "48fd6bc2-b2f5-493d-d364-485bce9ceb5c"
      },
      "execution_count": null,
      "outputs": [
        {
          "output_type": "stream",
          "name": "stdout",
          "text": [
            "8\n",
            "8 9 4 3 4 9 8 0\n",
            "45\n",
            "Mean:  5.625\n",
            "Meadian:  6.0\n",
            "Mode of list 0\n",
            "Mode of list 4\n"
          ]
        }
      ]
    },
    {
      "cell_type": "code",
      "source": [
        "# Q: 3 Rotation with user input\n",
        "n=int(input())\n",
        "list1=[0]*n\n",
        "a=0\n",
        "while a<n:\n",
        "    b=int(input())\n",
        "    list1[a]=b\n",
        "    a+=1\n",
        "print(list1)\n",
        "k=int(input())\n",
        "l=[]\n",
        "i=0\n",
        "y=0\n",
        "count=0\n",
        "while y<n:\n",
        "    if list1[i]!=\"A\":\n",
        "        count+=1\n",
        "    if count==k:\n",
        "        l.append(list1[i])\n",
        "        list1[i]=\"A\"\n",
        "        count=0\n",
        "        y+=1\n",
        "    # else:\n",
        "    #     count+=1\n",
        "    i=(i+1)%((n))\n",
        "print(l)\n"
      ],
      "metadata": {
        "id": "6t6_oBQOBwYY",
        "colab": {
          "base_uri": "https://localhost:8080/"
        },
        "outputId": "4cdf1812-abef-4395-9a90-7d4d6a8b834b"
      },
      "execution_count": null,
      "outputs": [
        {
          "output_type": "stream",
          "name": "stdout",
          "text": [
            "4\n",
            "4\n",
            "3\n",
            "2\n",
            "4\n",
            "[4, 3, 2, 4]\n",
            "2\n",
            "[3, 4, 2, 4]\n"
          ]
        }
      ]
    },
    {
      "cell_type": "code",
      "source": [
        "# Q: 4 find the duplicate in array\n",
        "N=int(input())\n",
        "List=list(map(int,input().strip().split()))[:N]\n",
        "i=0\n",
        "while i<N:\n",
        "  j=i+1\n",
        "  count=0\n",
        "  while j<N:\n",
        "    if List[i]==List[j]:\n",
        "      count+=1\n",
        "    j+=1\n",
        "  if count==1:\n",
        "    print(List[i]) \n",
        "  i+=1"
      ],
      "metadata": {
        "colab": {
          "base_uri": "https://localhost:8080/"
        },
        "id": "CEYEalxfJcVu",
        "outputId": "854926fd-9aa6-4fd2-cd54-95b9de1e50ac"
      },
      "execution_count": null,
      "outputs": [
        {
          "output_type": "stream",
          "name": "stdout",
          "text": [
            "8\n",
            "23 29 3 23 0 23 29 22\n",
            "29\n",
            "23\n"
          ]
        }
      ]
    },
    {
      "cell_type": "code",
      "source": [
        "# Q: 5 Merge two sorted arrays into a single sorted array\n",
        "n=[]\n",
        "n1=[]\n",
        "len1=int(input())\n",
        "len2=int(input())\n",
        "b1=len1\n",
        "b2=len2\n",
        "while len1>=1:\n",
        "  n.append(input())\n",
        "  len1-=1\n",
        "print(n)\n",
        "while len2>=1:\n",
        "  n1.append(input())\n",
        "  len2-=1\n",
        "print(n1)\n",
        "\n",
        "i=0\n",
        "while i<b1-1:\n",
        "  b=i+1\n",
        "  while b<b1:\n",
        "    if int(n[b])<int(n[i]):\n",
        "       n[b],n[i]=n[i],n[b]\n",
        "    b+=1\n",
        "  i+=1\n",
        "j=0\n",
        "while j<b2-1:\n",
        "  b=j+1\n",
        "  while b<b2:\n",
        "    if int(n1[b])<int(n1[j]):\n",
        "       n1[b],n1[j]=n1[j],n1[b]\n",
        "    b+=1\n",
        "  j+=1\n",
        "L=b1+b2\n",
        "N=n+n1\n",
        "print(N)\n",
        "i=0\n",
        "while i<L-1:\n",
        "  b=i+1\n",
        "  while b<L:\n",
        "    if int(N[b])<int(N[i]):\n",
        "      N[b],N[i]=N[i],N[b]\n",
        "    b+=1\n",
        "  i+=1\n",
        "print(N)\n",
        "\n",
        "\n",
        "\n"
      ],
      "metadata": {
        "id": "A6079g9MwQeI"
      },
      "execution_count": null,
      "outputs": []
    },
    {
      "cell_type": "code",
      "source": [
        "# 6. Given an unsorted array of size N that contains only non-negative integers, find a contiguous subarray which adds to a given number S. In case of multiple subarrays,\n",
        "# return the subarray which comes first on moving from left to right. Eg, let us say the array is - 3, 6, 7, 5, 10. And the value of S = 12. The output should be - 7, 5\n",
        "N=int(input())\n",
        "N1=[0]*N\n",
        "for i in range(N):\n",
        "  N1[i]=input()\n",
        "print(N1)\n",
        "count=0\n",
        "Num=int(input())\n",
        "for i in range(N):\n",
        "  for j in range(N):\n",
        "    if int(N1[i])+int(N1[j])==Num:\n",
        "      a=N1[i]\n",
        "      b=N1[j]\n",
        "      count+=1\n",
        "  if count>0:\n",
        "    print(a,b)\n",
        "    break"
      ],
      "metadata": {
        "id": "NQR2RQ9cEi23",
        "colab": {
          "base_uri": "https://localhost:8080/"
        },
        "outputId": "603a38e1-515e-448f-d61f-0d39eb0c2330"
      },
      "execution_count": null,
      "outputs": [
        {
          "output_type": "stream",
          "name": "stdout",
          "text": [
            "4\n",
            "89\n",
            "88\n",
            "82\n",
            "7\n",
            "['89', '88', '82', '7']\n",
            "89\n",
            "82 7\n"
          ]
        }
      ]
    },
    {
      "cell_type": "code",
      "source": [
        "#Q: 7.)  Find the Union and Intersection of the two sorted arrays\n",
        "n=[]\n",
        "n1=[]\n",
        "len1=int(input())\n",
        "len2=int(input())\n",
        "b1=len1   #len of list 1\n",
        "b2=len2   #len of list 2\n",
        "while len1>=1:    #loop for input in first list\n",
        "  n.append(input())\n",
        "  len1-=1\n",
        "print(n)\n",
        "while len2>=1:    # loop for input in second list\n",
        "  n1.append(input())\n",
        "  len2-=1\n",
        "print(n1)\n",
        "if len1>len2:  #find greater length from two list \n",
        "  b=b1  # bigger length\n",
        "  b1=b2   #small length \n",
        "  list1=n  #bigger length list\n",
        "  list2=n1  #short length list\n",
        "else:\n",
        "  b=b2\n",
        "  b1=b1\n",
        "  list1=n1\n",
        "  list2=n\n",
        "union=list1+list2 #union is combination of two list\n",
        "intersection=[]\n",
        "i=0\n",
        "while i<b:    # find intersection from taking previous element as compare to b11\n",
        "  b11=0\n",
        "  while b11<b1:\n",
        "    if list1[i]==list2[b11]:    #check the same element is exist or not\n",
        "      intersection.append(list1[i])\n",
        "    b11+=1\n",
        "  i+=1\n",
        "print(intersection)\n",
        "i=0\n",
        "b1+=b2 # length of union\n",
        "while i<b1:\n",
        "  b=i+1\n",
        "  while b<b1:\n",
        "    if int(union[b])<int(union[i]):\n",
        "       union[b],union[i]=union[i],union[b]\n",
        "    b+=1\n",
        "  i+=1\n",
        "print(union)\n",
        "\n"
      ],
      "metadata": {
        "id": "ARWlBVbsiiXy",
        "colab": {
          "base_uri": "https://localhost:8080/"
        },
        "outputId": "37983189-1d93-4572-9e0d-b468b6fa3142"
      },
      "execution_count": null,
      "outputs": [
        {
          "output_type": "stream",
          "name": "stdout",
          "text": [
            "4\n",
            "3\n",
            "23\n",
            "10\n",
            "3\n",
            "29\n",
            "['23', '10', '3', '29']\n",
            "21\n",
            "3\n",
            "23\n",
            "['21', '3', '23']\n",
            "['3', '23']\n",
            "['3', '3', '10', '21', '23', '23', '29']\n"
          ]
        }
      ]
    },
    {
      "cell_type": "code",
      "source": [
        "# Q: 9) Binary Sort\n",
        "N=int(input())\n",
        "List=[0]*N\n",
        "for i in range(N):\n",
        "  a=int(input())\n",
        "  List[i]=a\n",
        "# List.sort()\n",
        "i=0\n",
        "while i<(N-1):\n",
        "  j=i+1\n",
        "  while j<(N):\n",
        "    if List[j]<List[i]:\n",
        "      List[i],List[j]=List[j],List[i]\n",
        "    j+=1\n",
        "  i+=1\n",
        "print(List)\n",
        "U_in=int(input())\n",
        "U=N-1\n",
        "L=0\n",
        "I=0\n",
        "while L<=U:\n",
        "  mid=(U+L)//2\n",
        "  if U_in==List[mid]:\n",
        "    I=mid\n",
        "    break\n",
        "  else:\n",
        "    if U_in>List[mid]:\n",
        "      L=mid+1\n",
        "    else:\n",
        "      U=mid-1\n",
        "print(\"Index No.: \",I)\n",
        "\n"
      ],
      "metadata": {
        "colab": {
          "base_uri": "https://localhost:8080/"
        },
        "id": "wxLUmJiDDXei",
        "outputId": "05f588ff-f61a-41db-f48c-ce1640782472"
      },
      "execution_count": null,
      "outputs": [
        {
          "output_type": "stream",
          "name": "stdout",
          "text": [
            "4\n",
            "20\n",
            "11\n",
            "22\n",
            "2\n",
            "[2, 11, 20, 22]\n",
            "9\n",
            "Index No.:  0\n"
          ]
        }
      ]
    },
    {
      "cell_type": "code",
      "source": [
        "# Q: 10) a. sort a list by selection sort\n",
        "n=[]\n",
        "len1=int(input())\n",
        "b1=len1\n",
        "while len1>=1:\n",
        "  n.append(input())\n",
        "  len1-=1\n",
        "print(n)\n",
        "i=0\n",
        "while i<b1-1:\n",
        "  b=i+1\n",
        "  while b<b1:\n",
        "    if int(n[b])<int(n[i]):\n",
        "       n[b],n[i]=n[i],n[b]\n",
        "    b+=1\n",
        "  i+=1\n",
        "print(n)"
      ],
      "metadata": {
        "id": "GZ9cdV-qzS_X",
        "colab": {
          "base_uri": "https://localhost:8080/"
        },
        "outputId": "5bb46848-af33-4794-b02c-36a64a974393"
      },
      "execution_count": null,
      "outputs": [
        {
          "output_type": "stream",
          "name": "stdout",
          "text": [
            "4\n",
            "78\n",
            "32\n",
            "30\n",
            "21\n",
            "['78', '32', '30', '21']\n",
            "['21', '30', '32', '78']\n"
          ]
        }
      ]
    },
    {
      "cell_type": "code",
      "source": [
        "# Q10: F) count sort\n",
        "N=int(input())\n",
        "N1=[0]*N\n",
        "for i in range(N):\n",
        "  N1[i]=int(input())\n",
        "max=0\n",
        "for j in range(N):                                                                                                                                                                       \n",
        "  if max<N1[j]:\n",
        "    max=N1[j]\n",
        "max=max+1\n",
        "print(N1)\n",
        "N11=[0]*(max)\n",
        "for i in range(N):\n",
        "  for j in range(max):\n",
        "    if N1[i]==j:\n",
        "      N11[j]+=1\n",
        "print(N11)\n",
        "i=0\n",
        "for j in range(max):\n",
        "    while N11[j]>0:\n",
        "      N1[i]=j\n",
        "      i+=1\n",
        "      N11[j]-=1\n",
        "print(N1)"
      ],
      "metadata": {
        "id": "a2sIvV3n5o_P",
        "colab": {
          "base_uri": "https://localhost:8080/"
        },
        "outputId": "9be0fe40-28f9-4d5e-f3f6-9c35319bb77a"
      },
      "execution_count": null,
      "outputs": [
        {
          "output_type": "stream",
          "name": "stdout",
          "text": [
            "4\n",
            "90\n",
            "132\n",
            "89\n",
            "79\n",
            "[90, 132, 89, 79]\n",
            "[0, 0, 0, 0, 0, 0, 0, 0, 0, 0, 0, 0, 0, 0, 0, 0, 0, 0, 0, 0, 0, 0, 0, 0, 0, 0, 0, 0, 0, 0, 0, 0, 0, 0, 0, 0, 0, 0, 0, 0, 0, 0, 0, 0, 0, 0, 0, 0, 0, 0, 0, 0, 0, 0, 0, 0, 0, 0, 0, 0, 0, 0, 0, 0, 0, 0, 0, 0, 0, 0, 0, 0, 0, 0, 0, 0, 0, 0, 0, 1, 0, 0, 0, 0, 0, 0, 0, 0, 0, 1, 1, 0, 0, 0, 0, 0, 0, 0, 0, 0, 0, 0, 0, 0, 0, 0, 0, 0, 0, 0, 0, 0, 0, 0, 0, 0, 0, 0, 0, 0, 0, 0, 0, 0, 0, 0, 0, 0, 0, 0, 0, 0, 1]\n",
            "[79, 89, 90, 132]\n"
          ]
        }
      ]
    },
    {
      "cell_type": "code",
      "source": [
        "# Q: 10) b. Insertion sort\n",
        "N=int(input())\n",
        "N1=[0]*N\n",
        "for i in range(N):\n",
        "  N1[i]=int(input())\n",
        "i=0\n",
        "while i<N:\n",
        "  j=i+1\n",
        "  min=0\n",
        "  for j in range(N):\n",
        "    if N1[j]<N1[i]:\n",
        "      N1[i],N1[j]=N1[j],N1[i]\n",
        "  i+=1\n",
        "    # N1[j]=N1[i]\n",
        "print(N1)\n",
        "      "
      ],
      "metadata": {
        "id": "Q8WQQvMZTPWI",
        "colab": {
          "base_uri": "https://localhost:8080/"
        },
        "outputId": "76adcc55-7652-43f5-8298-78f3a5d29e51"
      },
      "execution_count": null,
      "outputs": [
        {
          "name": "stdout",
          "output_type": "stream",
          "text": [
            "4\n"
          ]
        }
      ]
    },
    {
      "cell_type": "code",
      "source": [
        "# Q: 3 Rotation with user input\n",
        "N=int(input())\n",
        "List=list(map(int,input().strip().split()))[:N]\n",
        "l=int(input())\n",
        "sum=0\n",
        "a1=[0]*N\n",
        "j=0\n",
        "while j<N:\n",
        "  i=1\n",
        "  while i<=l:\n",
        "    if i==l:\n",
        "      if List[j]!=None:\n",
        "        a1.append(List[j])\n",
        "        List[j]=None\n",
        "    i+=1\n",
        "  j=(j+1)%N\n",
        "\n",
        "print(a1)\n"
      ],
      "metadata": {
        "colab": {
          "base_uri": "https://localhost:8080/"
        },
        "id": "cRM0ddvoaVuu",
        "outputId": "d23acada-fd58-4d6c-d6a0-2fe837947904"
      },
      "execution_count": null,
      "outputs": [
        {
          "name": "stdout",
          "output_type": "stream",
          "text": [
            "4\n",
            "8 9 4 3\n",
            "2\n"
          ]
        }
      ]
    },
    {
      "cell_type": "code",
      "source": [
        "# Q: SEIEVE method to find prime number till user input\n",
        "A=int(input())\n",
        "b=[*range(2,A+1)]\n",
        "print(b)\n",
        "i=0\n",
        "while i<A-1:\n",
        "  if b[i]>1:\n",
        "    j=i+1\n",
        "    for j in range(A-1):\n",
        "      if b[j]>b[i]:\n",
        "        if b[j]%b[i]==0:\n",
        "          b[j]=0\n",
        "  i+=1\n",
        "prime=[]\n",
        "for i in range(A-1):\n",
        "    if b[i]>1:\n",
        "        prime.append(b[i])\n",
        "print(prime)\n",
        "\n"
      ],
      "metadata": {
        "id": "vJWcmQwzxxHz",
        "colab": {
          "base_uri": "https://localhost:8080/"
        },
        "outputId": "903840df-599f-44dc-a2ec-baa7fdf9ddf3"
      },
      "execution_count": null,
      "outputs": [
        {
          "output_type": "stream",
          "name": "stdout",
          "text": [
            "79\n",
            "[2, 3, 4, 5, 6, 7, 8, 9, 10, 11, 12, 13, 14, 15, 16, 17, 18, 19, 20, 21, 22, 23, 24, 25, 26, 27, 28, 29, 30, 31, 32, 33, 34, 35, 36, 37, 38, 39, 40, 41, 42, 43, 44, 45, 46, 47, 48, 49, 50, 51, 52, 53, 54, 55, 56, 57, 58, 59, 60, 61, 62, 63, 64, 65, 66, 67, 68, 69, 70, 71, 72, 73, 74, 75, 76, 77, 78, 79]\n",
            "[2, 3, 5, 7, 11, 13, 17, 19, 23, 29, 31, 37, 41, 43, 47, 53, 59, 61, 67, 71, 73, 79]\n"
          ]
        }
      ]
    },
    {
      "cell_type": "code",
      "source": [
        "# Recurssion or code is as stack(DSA) dt. 31.08.2022 evening coding with anup sir\n",
        "def func1(n):\n",
        "  if n==0:\n",
        "    return\n",
        "  else:\n",
        "    n=n-1\n",
        "    print(n)\n",
        "    func1(n)\n",
        "  print(n)\n",
        "x=int(input())\n",
        "func1(x)"
      ],
      "metadata": {
        "colab": {
          "base_uri": "https://localhost:8080/"
        },
        "id": "O7cpgau85_VE",
        "outputId": "e40c88c9-1a28-4a23-a2bc-b179a6535ed3"
      },
      "execution_count": null,
      "outputs": [
        {
          "output_type": "stream",
          "name": "stdout",
          "text": [
            "3\n",
            "2\n",
            "1\n",
            "0\n",
            "0\n",
            "1\n",
            "2\n"
          ]
        }
      ]
    },
    {
      "cell_type": "code",
      "source": [
        "# make a list with user input without duplicate\n",
        "T=int(input())\n",
        "for i in range(T):\n",
        "    K=int(input())\n",
        "    A=[]\n",
        "    for i in range(K):\n",
        "        x=map(int,input().split())\n",
        "        A.extend(x)\n",
        "    K=set(A)\n",
        "    print(K)\n",
        "    print(len(K))\n",
        "    if len(K)==5:\n",
        "        print(\"Yes\")\n",
        "    else:\n",
        "        print(\"No\")"
      ],
      "metadata": {
        "colab": {
          "base_uri": "https://localhost:8080/"
        },
        "id": "sdrzDO9j7R-S",
        "outputId": "e8052dbb-27f9-443a-b565-67ad1efec143"
      },
      "execution_count": null,
      "outputs": [
        {
          "output_type": "stream",
          "name": "stdout",
          "text": [
            "1\n",
            "2\n",
            "9 7 \n",
            "8 9 9\n",
            "{8, 9, 7}\n",
            "3\n",
            "No\n"
          ]
        }
      ]
    },
    {
      "cell_type": "code",
      "source": [
        "#  bubble sort\n",
        "length=int(input())\n",
        "p=[0]*length\n",
        "for i in range(length):\n",
        "  p[i]=int(input())\n",
        "for j in range(length-1):\n",
        "  for k in range(j+1,(length)):\n",
        "    if p[j]>p[k]:\n",
        "      p[j],p[k]=p[k],p[j]\n",
        "      j+=1\n",
        "      \n",
        "print(p)\n",
        "\n"
      ],
      "metadata": {
        "id": "USz61c7wCcQh"
      },
      "execution_count": null,
      "outputs": []
    }
  ],
  "metadata": {
    "colab": {
      "provenance": [],
      "authorship_tag": "ABX9TyNU52FVgqyB+imF23WZk2aE",
      "include_colab_link": true
    },
    "kernelspec": {
      "display_name": "Python 3",
      "name": "python3"
    },
    "language_info": {
      "name": "python"
    }
  },
  "nbformat": 4,
  "nbformat_minor": 0
}